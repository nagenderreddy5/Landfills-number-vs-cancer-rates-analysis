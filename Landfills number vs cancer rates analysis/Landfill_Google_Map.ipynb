{
 "cells": [
  {
   "cell_type": "code",
   "execution_count": 1,
   "metadata": {},
   "outputs": [],
   "source": [
    "import gmaps\n",
    "import pandas as pd\n",
    "import gmaps\n",
    "from config import gkey\n",
    "# Configure gmaps\n",
    "gmaps.configure(api_key=gkey)"
   ]
  },
  {
   "cell_type": "code",
   "execution_count": 2,
   "metadata": {},
   "outputs": [
    {
     "data": {
      "text/html": [
       "<div>\n",
       "<style scoped>\n",
       "    .dataframe tbody tr th:only-of-type {\n",
       "        vertical-align: middle;\n",
       "    }\n",
       "\n",
       "    .dataframe tbody tr th {\n",
       "        vertical-align: top;\n",
       "    }\n",
       "\n",
       "    .dataframe thead th {\n",
       "        text-align: right;\n",
       "    }\n",
       "</style>\n",
       "<table border=\"1\" class=\"dataframe\">\n",
       "  <thead>\n",
       "    <tr style=\"text-align: right;\">\n",
       "      <th></th>\n",
       "      <th>Landfill Name</th>\n",
       "      <th>Physical Address</th>\n",
       "      <th>City</th>\n",
       "      <th>State</th>\n",
       "      <th>Zip Code</th>\n",
       "      <th>Latitude</th>\n",
       "      <th>Longitude</th>\n",
       "    </tr>\n",
       "  </thead>\n",
       "  <tbody>\n",
       "    <tr>\n",
       "      <th>0</th>\n",
       "      <td>Anchorage Regional Landfill</td>\n",
       "      <td>15500 E. Eagle River Loop Road</td>\n",
       "      <td>Eagle River</td>\n",
       "      <td>AK</td>\n",
       "      <td>99577</td>\n",
       "      <td>61.293281</td>\n",
       "      <td>-149.602138</td>\n",
       "    </tr>\n",
       "    <tr>\n",
       "      <th>1</th>\n",
       "      <td>Capitol Disposal Landfill</td>\n",
       "      <td>5600 Tonsgard Court</td>\n",
       "      <td>Juneau</td>\n",
       "      <td>AK</td>\n",
       "      <td>99801</td>\n",
       "      <td>58.352800</td>\n",
       "      <td>-134.494700</td>\n",
       "    </tr>\n",
       "    <tr>\n",
       "      <th>2</th>\n",
       "      <td>Central Peninsula Landfill (CPL)</td>\n",
       "      <td>46915 Sterling Highway</td>\n",
       "      <td>Soldotna</td>\n",
       "      <td>AK</td>\n",
       "      <td>99669</td>\n",
       "      <td>60.447140</td>\n",
       "      <td>-151.103690</td>\n",
       "    </tr>\n",
       "    <tr>\n",
       "      <th>4</th>\n",
       "      <td>Merrill Field Landfill</td>\n",
       "      <td>800 Merrill Field Drive</td>\n",
       "      <td>Anchorage</td>\n",
       "      <td>AK</td>\n",
       "      <td>99501</td>\n",
       "      <td>61.212660</td>\n",
       "      <td>-149.840120</td>\n",
       "    </tr>\n",
       "    <tr>\n",
       "      <th>5</th>\n",
       "      <td>Palmer Central Landfill</td>\n",
       "      <td>1201 N. 49th State Street\\r\\nJust off the Palm...</td>\n",
       "      <td>Palmer</td>\n",
       "      <td>AK</td>\n",
       "      <td>99645</td>\n",
       "      <td>61.590000</td>\n",
       "      <td>-149.210000</td>\n",
       "    </tr>\n",
       "  </tbody>\n",
       "</table>\n",
       "</div>"
      ],
      "text/plain": [
       "                      Landfill Name  \\\n",
       "0       Anchorage Regional Landfill   \n",
       "1         Capitol Disposal Landfill   \n",
       "2  Central Peninsula Landfill (CPL)   \n",
       "4            Merrill Field Landfill   \n",
       "5           Palmer Central Landfill   \n",
       "\n",
       "                                    Physical Address         City State  \\\n",
       "0                     15500 E. Eagle River Loop Road  Eagle River    AK   \n",
       "1                                5600 Tonsgard Court       Juneau    AK   \n",
       "2                             46915 Sterling Highway     Soldotna    AK   \n",
       "4                            800 Merrill Field Drive    Anchorage    AK   \n",
       "5  1201 N. 49th State Street\\r\\nJust off the Palm...       Palmer    AK   \n",
       "\n",
       "  Zip Code   Latitude   Longitude  \n",
       "0    99577  61.293281 -149.602138  \n",
       "1    99801  58.352800 -134.494700  \n",
       "2    99669  60.447140 -151.103690  \n",
       "4    99501  61.212660 -149.840120  \n",
       "5    99645  61.590000 -149.210000  "
      ]
     },
     "execution_count": 2,
     "metadata": {},
     "output_type": "execute_result"
    }
   ],
   "source": [
    " #Pull in the landfill data into a dataframe\n",
    "data_df = pd.read_csv('landfilldata.csv')\n",
    "data_df.dropna(inplace = True)\n",
    "data = pd.DataFrame(data_df, columns=['Landfill Name', 'Physical Address', 'City', 'State', 'Zip Code', 'Latitude', 'Longitude'])\n",
    "data.head()"
   ]
  },
  {
   "cell_type": "code",
   "execution_count": 3,
   "metadata": {},
   "outputs": [],
   "source": [
    "locations = data_df[[\"Latitude\", \"Longitude\"]]"
   ]
  },
  {
   "cell_type": "code",
   "execution_count": 4,
   "metadata": {},
   "outputs": [
    {
     "data": {
      "application/vnd.jupyter.widget-view+json": {
       "model_id": "ac9ab84c8d394f6da5ecee350fa47c44",
       "version_major": 2,
       "version_minor": 0
      },
      "text/plain": [
       "Figure(layout=FigureLayout(height='420px'))"
      ]
     },
     "metadata": {},
     "output_type": "display_data"
    }
   ],
   "source": [
    "fig = gmaps.figure(map_type=\"HYBRID\", center = (33.7490, -84.3880), zoom_level = 7)\n",
    "markers = gmaps.heatmap_layer(locations)\n",
    "fig.add_layer(markers)\n",
    "fig"
   ]
  },
  {
   "cell_type": "code",
   "execution_count": null,
   "metadata": {},
   "outputs": [],
   "source": []
  }
 ],
 "metadata": {
  "kernelspec": {
   "display_name": "Python 3",
   "language": "python",
   "name": "python3"
  },
  "language_info": {
   "codemirror_mode": {
    "name": "ipython",
    "version": 3
   },
   "file_extension": ".py",
   "mimetype": "text/x-python",
   "name": "python",
   "nbconvert_exporter": "python",
   "pygments_lexer": "ipython3",
   "version": "3.6.10"
  }
 },
 "nbformat": 4,
 "nbformat_minor": 4
}
